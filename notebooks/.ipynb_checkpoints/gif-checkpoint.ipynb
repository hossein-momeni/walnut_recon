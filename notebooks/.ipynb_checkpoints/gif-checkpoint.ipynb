{
 "cells": [
  {
   "cell_type": "code",
   "execution_count": null,
   "id": "f24588de-aa6a-4ff0-ad0b-9e9715e865cd",
   "metadata": {},
   "outputs": [],
   "source": [
    "from pathlib import Path\n",
    "\n",
    "import imageio.v3 as iio\n",
    "import numpy as np\n",
    "from tqdm import tqdm"
   ]
  },
  {
   "cell_type": "code",
   "execution_count": null,
   "id": "f527ff91-2b89-4642-941b-5bb37e1be203",
   "metadata": {},
   "outputs": [],
   "source": [
    "trafo = lambda image: np.transpose(np.flipud(image))"
   ]
  },
  {
   "cell_type": "code",
   "execution_count": null,
   "id": "637ac239-b9f9-4134-ad98-930c3cd957d6",
   "metadata": {},
   "outputs": [
    {
     "name": "stderr",
     "output_type": "stream",
     "text": [
      "<TiffTag.fromfile> raised TiffFileError('<tifffile.TiffTag 320 @1493217> invalid value offset 0')\n",
      "<TiffTag.fromfile> raised TiffFileError('<tifffile.TiffTag 320 @1493217> invalid value offset 0')\n",
      "<TiffTag.fromfile> raised TiffFileError('<tifffile.TiffTag 320 @1493217> invalid value offset 0')\n",
      "100%|██████████████████████████████████| 1201/1201 [00:21<00:00, 55.61it/s]\n",
      "IMAGEIO FFMPEG_WRITER WARNING: input image is not divisible by macro_block_size=16, resizing from (768, 972) to (768, 976) to ensure video compatibility with most codecs and players. To prevent resizing, make your input image divisible by the macro_block_size or set the macro_block_size to 1 (risking incompatibility).\n",
      "<TiffTag.fromfile> raised TiffFileError('<tifffile.TiffTag 320 @1493217> invalid value offset 0')\n",
      "<TiffTag.fromfile> raised TiffFileError('<tifffile.TiffTag 320 @1493217> invalid value offset 0')\n",
      "<TiffTag.fromfile> raised TiffFileError('<tifffile.TiffTag 320 @1493217> invalid value offset 0')\n",
      "100%|██████████████████████████████████| 1201/1201 [00:19<00:00, 61.44it/s]\n",
      "IMAGEIO FFMPEG_WRITER WARNING: input image is not divisible by macro_block_size=16, resizing from (768, 972) to (768, 976) to ensure video compatibility with most codecs and players. To prevent resizing, make your input image divisible by the macro_block_size or set the macro_block_size to 1 (risking incompatibility).\n",
      "<TiffTag.fromfile> raised TiffFileError('<tifffile.TiffTag 320 @1493217> invalid value offset 0')\n",
      "<TiffTag.fromfile> raised TiffFileError('<tifffile.TiffTag 320 @1493217> invalid value offset 0')\n",
      "<TiffTag.fromfile> raised TiffFileError('<tifffile.TiffTag 320 @1493217> invalid value offset 0')\n",
      "100%|██████████████████████████████████| 1201/1201 [00:19<00:00, 60.61it/s]\n",
      "IMAGEIO FFMPEG_WRITER WARNING: input image is not divisible by macro_block_size=16, resizing from (768, 972) to (768, 976) to ensure video compatibility with most codecs and players. To prevent resizing, make your input image divisible by the macro_block_size or set the macro_block_size to 1 (risking incompatibility).\n"
     ]
    }
   ],
   "source": [
    "for tube in [1, 2, 3]:\n",
    "    \n",
    "    # Load the flat- and dark-field images\n",
    "    dark = trafo(iio.imread(f\"../data/Walnut1/Projections/tubeV{tube}/di000000.tif\"))\n",
    "    flat = []\n",
    "    for filepath in sorted(Path(f\"../data/Walnut1/Projections/tubeV{tube}/\").glob(\"io*.tif\")):\n",
    "        tmp = trafo(iio.imread(filepath))\n",
    "        flat.append(tmp)\n",
    "    flat = np.array(flat).mean(axis=0)\n",
    "    \n",
    "    # Load and preprocess projections\n",
    "    imgs = []\n",
    "    for filepath in tqdm(sorted(Path(f\"../data/Walnut1/Projections/tubeV{tube}/\").glob(\"scan_*.tif\")), ncols=75):\n",
    "        img = iio.imread(filepath)\n",
    "        img = trafo(img)\n",
    "        img = (img - dark) / (flat - dark)\n",
    "        img = -np.log(img)\n",
    "        img = np.clip(img, 0, 10)\n",
    "        imgs.append(img)\n",
    "    \n",
    "    frames = np.stack(imgs, axis=0)\n",
    "    frames = (frames - frames.min()) / (frames.max() - frames.min())\n",
    "    frames = (frames * 255).astype(np.uint8)\n",
    "\n",
    "    # Write the video\n",
    "    iio.imwrite(f\"movs/walnut1_tubeV{tube}.mp4\", frames, fps=60)"
   ]
  },
  {
   "cell_type": "code",
   "execution_count": null,
   "id": "67598174-f473-47d6-b0f5-3212151a1ff4",
   "metadata": {},
   "outputs": [],
   "source": []
  }
 ],
 "metadata": {
  "kernelspec": {
   "display_name": "python3",
   "language": "python",
   "name": "python3"
  }
 },
 "nbformat": 4,
 "nbformat_minor": 5
}
